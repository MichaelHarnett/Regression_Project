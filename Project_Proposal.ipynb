{
 "cells": [
  {
   "cell_type": "markdown",
   "metadata": {},
   "source": [
    "# Project Proposal"
   ]
  },
  {
   "cell_type": "markdown",
   "metadata": {},
   "source": [
    "For this regression project, I wanted to find a data source that aligned with either video games or the restuarant industry, as countless hours of my life have been devoted to both of these passions. With difficulty fiding linearly correlated data for video games available online, I have decided on trying to  determine the factors that influence a restaurant's success. Using data scraped from Open Table, I plan to build a linear regression model, specifically to interpret which features are most influential for high-performing restaurants. As revenue for buisnesses is proprietary, success will be based on popularity in terms of reviews. The main data source for this project will be Open Table's Tri-State-Area's listings due to the high volume of data available and popularity of Open Table's services in this area. Features include but are not limited to: \n",
    "<ul>\n",
    "    <li>Number of reviews</li>\n",
    "    <li>Rating</li>\n",
    "    <li>Price point</li>\n",
    "    <li>Specific location</li>\n",
    "    <li>Number of bookings placed through site</li>\n",
    "    <li>Size of Restaurant determined through available bookings</li>\n",
    "    <li>Cuisine served</li>\n",
    "    <li>Dining style (casual/formal)</li>\n",
    "    <li>Hours of operation</li>\n",
    "    <li>Entertainment offered</li>\n",
    "</ul>\n",
    "        \n",
    "        \n",
    "Scraping will be performed with a combination of Selenium and Beautiful Soup. StatsModels will be used for preliminary analysis of feature coefficients, while SciKit-Learn will be used for the actual modeling and feature engineering. The results of will be displayed through both seaborn and matplotlib. I look forward to sharing the insights the model provides."
   ]
  },
  {
   "cell_type": "code",
   "execution_count": null,
   "metadata": {},
   "outputs": [],
   "source": []
  }
 ],
 "metadata": {
  "kernelspec": {
   "display_name": "Python 3",
   "language": "python",
   "name": "python3"
  },
  "language_info": {
   "codemirror_mode": {
    "name": "ipython",
    "version": 3
   },
   "file_extension": ".py",
   "mimetype": "text/x-python",
   "name": "python",
   "nbconvert_exporter": "python",
   "pygments_lexer": "ipython3",
   "version": "3.8.5"
  }
 },
 "nbformat": 4,
 "nbformat_minor": 4
}
