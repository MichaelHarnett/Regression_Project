{
 "cells": [
  {
   "cell_type": "code",
   "execution_count": 68,
   "metadata": {},
   "outputs": [],
   "source": [
    "from bs4 import BeautifulSoup\n",
    "import requests\n",
    "import pandas as pd\n",
    "from selenium import webdriver\n",
    "from selenium.webdriver.common.keys import Keys\n",
    "import time, os\n",
    "\n",
    "chromedriver = \"/Applications/chromedriver\" # path to the chromedriver executable\n",
    "os.environ[\"webdriver.chrome.driver\"] = chromedriver\n",
    "\n",
    "url = 'https://www.opentable.com/new-york-restaurant-listings'\n",
    "\n",
    "\n",
    "driver = webdriver.Chrome(chromedriver)\n",
    "driver.get(url)"
   ]
  },
  {
   "cell_type": "code",
   "execution_count": 126,
   "metadata": {},
   "outputs": [],
   "source": [
    "from selenium.webdriver.common.by import By"
   ]
  },
  {
   "cell_type": "markdown",
   "metadata": {},
   "source": [
    "# Scraping list of all restaurants\n",
    "\n",
    "The restaurants are listed on several different pages as opposed to one large infinite scroll. So I am fiding the number of total pages, then creating a loop that for the length of total pages, click next, and add to soup."
   ]
  },
  {
   "cell_type": "code",
   "execution_count": 70,
   "metadata": {},
   "outputs": [],
   "source": [
    "soup = BeautifulSoup(driver.page_source, 'html5lib')"
   ]
  },
  {
   "cell_type": "code",
   "execution_count": 8,
   "metadata": {},
   "outputs": [],
   "source": [
    "# this finds the total number of pages and saves the number as an integer for looping\n",
    "total_pages = soup.find('div', class_= 'pagination-container').find_all('li')[-2].text\n",
    "total_pages = int(total_pages.strip())"
   ]
  },
  {
   "cell_type": "code",
   "execution_count": 9,
   "metadata": {},
   "outputs": [
    {
     "data": {
      "text/plain": [
       "100"
      ]
     },
     "execution_count": 9,
     "metadata": {},
     "output_type": "execute_result"
    }
   ],
   "source": [
    "total_pages"
   ]
  },
  {
   "cell_type": "code",
   "execution_count": 11,
   "metadata": {},
   "outputs": [],
   "source": [
    "\n",
    "#next_button = soup.find('a', href='fake url')"
   ]
  },
  {
   "cell_type": "code",
   "execution_count": 71,
   "metadata": {},
   "outputs": [],
   "source": [
    "next_button = driver.find_element_by_xpath('//*[@id=\"results-pagination\"]/li[9]/a')"
   ]
  },
  {
   "cell_type": "code",
   "execution_count": 72,
   "metadata": {},
   "outputs": [],
   "source": [
    "next_button.click()"
   ]
  },
  {
   "cell_type": "code",
   "execution_count": 67,
   "metadata": {},
   "outputs": [
    {
     "ename": "NoSuchWindowException",
     "evalue": "Message: no such window: window was already closed\n  (Session info: chrome=90.0.4430.93)\n",
     "output_type": "error",
     "traceback": [
      "\u001b[0;31m---------------------------------------------------------------------------\u001b[0m",
      "\u001b[0;31mNoSuchWindowException\u001b[0m                     Traceback (most recent call last)",
      "\u001b[0;32m<ipython-input-67-4449334d8153>\u001b[0m in \u001b[0;36m<module>\u001b[0;34m\u001b[0m\n\u001b[1;32m      1\u001b[0m \u001b[0;31m# was attempting to gather all html first to make master list, but seems you cannot add to BeautifulSoup\u001b[0m\u001b[0;34m\u001b[0m\u001b[0;34m\u001b[0m\u001b[0;34m\u001b[0m\u001b[0m\n\u001b[1;32m      2\u001b[0m \u001b[0;31m# going to make a list page by page, and add to that dictionary\u001b[0m\u001b[0;34m\u001b[0m\u001b[0;34m\u001b[0m\u001b[0;34m\u001b[0m\u001b[0m\n\u001b[0;32m----> 3\u001b[0;31m \u001b[0msoup\u001b[0m \u001b[0;34m=\u001b[0m \u001b[0msoup\u001b[0m \u001b[0;34m+\u001b[0m \u001b[0mBeautifulSoup\u001b[0m\u001b[0;34m(\u001b[0m\u001b[0mdriver\u001b[0m\u001b[0;34m.\u001b[0m\u001b[0mpage_source\u001b[0m\u001b[0;34m,\u001b[0m \u001b[0;34m'html5lib'\u001b[0m\u001b[0;34m)\u001b[0m\u001b[0;34m\u001b[0m\u001b[0;34m\u001b[0m\u001b[0m\n\u001b[0m",
      "\u001b[0;32m/usr/local/anaconda3/lib/python3.8/site-packages/selenium/webdriver/remote/webdriver.py\u001b[0m in \u001b[0;36mpage_source\u001b[0;34m(self)\u001b[0m\n\u001b[1;32m    677\u001b[0m             \u001b[0mdriver\u001b[0m\u001b[0;34m.\u001b[0m\u001b[0mpage_source\u001b[0m\u001b[0;34m\u001b[0m\u001b[0;34m\u001b[0m\u001b[0m\n\u001b[1;32m    678\u001b[0m         \"\"\"\n\u001b[0;32m--> 679\u001b[0;31m         \u001b[0;32mreturn\u001b[0m \u001b[0mself\u001b[0m\u001b[0;34m.\u001b[0m\u001b[0mexecute\u001b[0m\u001b[0;34m(\u001b[0m\u001b[0mCommand\u001b[0m\u001b[0;34m.\u001b[0m\u001b[0mGET_PAGE_SOURCE\u001b[0m\u001b[0;34m)\u001b[0m\u001b[0;34m[\u001b[0m\u001b[0;34m'value'\u001b[0m\u001b[0;34m]\u001b[0m\u001b[0;34m\u001b[0m\u001b[0;34m\u001b[0m\u001b[0m\n\u001b[0m\u001b[1;32m    680\u001b[0m \u001b[0;34m\u001b[0m\u001b[0m\n\u001b[1;32m    681\u001b[0m     \u001b[0;32mdef\u001b[0m \u001b[0mclose\u001b[0m\u001b[0;34m(\u001b[0m\u001b[0mself\u001b[0m\u001b[0;34m)\u001b[0m\u001b[0;34m:\u001b[0m\u001b[0;34m\u001b[0m\u001b[0;34m\u001b[0m\u001b[0m\n",
      "\u001b[0;32m/usr/local/anaconda3/lib/python3.8/site-packages/selenium/webdriver/remote/webdriver.py\u001b[0m in \u001b[0;36mexecute\u001b[0;34m(self, driver_command, params)\u001b[0m\n\u001b[1;32m    319\u001b[0m         \u001b[0mresponse\u001b[0m \u001b[0;34m=\u001b[0m \u001b[0mself\u001b[0m\u001b[0;34m.\u001b[0m\u001b[0mcommand_executor\u001b[0m\u001b[0;34m.\u001b[0m\u001b[0mexecute\u001b[0m\u001b[0;34m(\u001b[0m\u001b[0mdriver_command\u001b[0m\u001b[0;34m,\u001b[0m \u001b[0mparams\u001b[0m\u001b[0;34m)\u001b[0m\u001b[0;34m\u001b[0m\u001b[0;34m\u001b[0m\u001b[0m\n\u001b[1;32m    320\u001b[0m         \u001b[0;32mif\u001b[0m \u001b[0mresponse\u001b[0m\u001b[0;34m:\u001b[0m\u001b[0;34m\u001b[0m\u001b[0;34m\u001b[0m\u001b[0m\n\u001b[0;32m--> 321\u001b[0;31m             \u001b[0mself\u001b[0m\u001b[0;34m.\u001b[0m\u001b[0merror_handler\u001b[0m\u001b[0;34m.\u001b[0m\u001b[0mcheck_response\u001b[0m\u001b[0;34m(\u001b[0m\u001b[0mresponse\u001b[0m\u001b[0;34m)\u001b[0m\u001b[0;34m\u001b[0m\u001b[0;34m\u001b[0m\u001b[0m\n\u001b[0m\u001b[1;32m    322\u001b[0m             response['value'] = self._unwrap_value(\n\u001b[1;32m    323\u001b[0m                 response.get('value', None))\n",
      "\u001b[0;32m/usr/local/anaconda3/lib/python3.8/site-packages/selenium/webdriver/remote/errorhandler.py\u001b[0m in \u001b[0;36mcheck_response\u001b[0;34m(self, response)\u001b[0m\n\u001b[1;32m    240\u001b[0m                 \u001b[0malert_text\u001b[0m \u001b[0;34m=\u001b[0m \u001b[0mvalue\u001b[0m\u001b[0;34m[\u001b[0m\u001b[0;34m'alert'\u001b[0m\u001b[0;34m]\u001b[0m\u001b[0;34m.\u001b[0m\u001b[0mget\u001b[0m\u001b[0;34m(\u001b[0m\u001b[0;34m'text'\u001b[0m\u001b[0;34m)\u001b[0m\u001b[0;34m\u001b[0m\u001b[0;34m\u001b[0m\u001b[0m\n\u001b[1;32m    241\u001b[0m             \u001b[0;32mraise\u001b[0m \u001b[0mexception_class\u001b[0m\u001b[0;34m(\u001b[0m\u001b[0mmessage\u001b[0m\u001b[0;34m,\u001b[0m \u001b[0mscreen\u001b[0m\u001b[0;34m,\u001b[0m \u001b[0mstacktrace\u001b[0m\u001b[0;34m,\u001b[0m \u001b[0malert_text\u001b[0m\u001b[0;34m)\u001b[0m\u001b[0;34m\u001b[0m\u001b[0;34m\u001b[0m\u001b[0m\n\u001b[0;32m--> 242\u001b[0;31m         \u001b[0;32mraise\u001b[0m \u001b[0mexception_class\u001b[0m\u001b[0;34m(\u001b[0m\u001b[0mmessage\u001b[0m\u001b[0;34m,\u001b[0m \u001b[0mscreen\u001b[0m\u001b[0;34m,\u001b[0m \u001b[0mstacktrace\u001b[0m\u001b[0;34m)\u001b[0m\u001b[0;34m\u001b[0m\u001b[0;34m\u001b[0m\u001b[0m\n\u001b[0m\u001b[1;32m    243\u001b[0m \u001b[0;34m\u001b[0m\u001b[0m\n\u001b[1;32m    244\u001b[0m     \u001b[0;32mdef\u001b[0m \u001b[0m_value_or_default\u001b[0m\u001b[0;34m(\u001b[0m\u001b[0mself\u001b[0m\u001b[0;34m,\u001b[0m \u001b[0mobj\u001b[0m\u001b[0;34m,\u001b[0m \u001b[0mkey\u001b[0m\u001b[0;34m,\u001b[0m \u001b[0mdefault\u001b[0m\u001b[0;34m)\u001b[0m\u001b[0;34m:\u001b[0m\u001b[0;34m\u001b[0m\u001b[0;34m\u001b[0m\u001b[0m\n",
      "\u001b[0;31mNoSuchWindowException\u001b[0m: Message: no such window: window was already closed\n  (Session info: chrome=90.0.4430.93)\n"
     ]
    }
   ],
   "source": [
    "# was attempting to gather all html first to make master list, but seems you cannot add to BeautifulSoup\n",
    "# going to make a list page by page, and add to that dictionary\n",
    "soup = soup + BeautifulSoup(driver.page_source, 'html5lib')"
   ]
  },
  {
   "cell_type": "markdown",
   "metadata": {},
   "source": [
    "# Creating list of restaurants"
   ]
  },
  {
   "cell_type": "code",
   "execution_count": 23,
   "metadata": {},
   "outputs": [],
   "source": [
    "#this finds the table of all restaurants by page\n",
    "table = soup.find('div', id= 'consumer-disclosure-tooltip').findNext()"
   ]
  },
  {
   "cell_type": "code",
   "execution_count": 24,
   "metadata": {},
   "outputs": [
    {
     "data": {
      "text/plain": [
       "<li class=\"result content-section-list-row cf with-times\" data-campaignids=\"7\" data-id=\"0\" data-index=\"1\" data-is-marketed=\"true\" data-is-promoted=\"true\" data-lat=\"40.8294860\" data-lon=\"-73.9804300\" data-offers=\"\" data-restaurant-availability-token=\"eyJ2IjoyLCJtIjoxLCJwIjoxLCJzIjowLCJuIjowfQ\" data-rid=\"217606\"><div class=\"rest-row with-image\"> <div class=\"rest-row-image\"> <a href=\"https://www.opentable.com/r/villa-amalfi-cliffside-park?avt=eyJ2IjoyLCJtIjoxLCJwIjoxLCJzIjowLCJuIjowfQ&amp;corrid=ef4d4920-3430-40f1-bf63-66d682887fa7\" onclick=\"OT.BestAnalytics.logRestaurantVisit(217606)\" tabindex=\"-1\" target=\"_blank\"> <img alt=\"photo of villa amalfi restaurant\" class=\"lazy rest-image loaded\" data-src=\"https://resizer.otstatic.com/v2/photos/legacy/3/31663170.jpg\" src=\"https://resizer.otstatic.com/v2/photos/legacy/3/31663170.jpg\"/> </a></div> <div class=\"rest-row-info\"><div class=\"rest-row-header-container\"><div class=\"rest-row-header flex-row-justify\"> <a class=\"rest-row-name rest-name\" href=\"https://www.opentable.com/r/villa-amalfi-cliffside-park?avt=eyJ2IjoyLCJtIjoxLCJwIjoxLCJzIjowLCJuIjowfQ&amp;corrid=ef4d4920-3430-40f1-bf63-66d682887fa7\" onclick=\"OT.BestAnalytics.logRestaurantVisit(217606)\" target=\"_blank\"><span class=\"rest-row-name-text\">Villa Amalfi</span>  </a>  <span class=\"promoted-badge\">Promoted</span> </div> </div>  <div class=\"rest-row-meta rest-row-meta-grid flex-row-justify\"><div class=\"flex-row-justify\">          <div class=\"rest-row-review\">     <div class=\"star-rating review-container xsmall-medium\">  <div aria-label=\"4.8 stars out of 5\" class=\"star-rating-score\" role=\"img\">    <span aria-hidden=\"true\" class=\"star\"><img src=\"//media.otstatic.com/search-result-node/images/compressed/star-full.svg\"/></span>    <span aria-hidden=\"true\" class=\"star\"><img src=\"//media.otstatic.com/search-result-node/images/compressed/star-full.svg\"/></span>    <span aria-hidden=\"true\" class=\"star\"><img src=\"//media.otstatic.com/search-result-node/images/compressed/star-full.svg\"/></span>    <span aria-hidden=\"true\" class=\"star\"><img src=\"//media.otstatic.com/search-result-node/images/compressed/star-full.svg\"/></span>    <span aria-hidden=\"true\" class=\"star\"><img src=\"//media.otstatic.com/search-result-node/images/compressed/star-threequarter.svg\"/></span> </div> <div class=\"review-rating-text xsmall-bold\"> <span>Exceptional</span></div>  <a class=\"review-link\" href=\"https://www.opentable.com/r/villa-amalfi-cliffside-park?avt=eyJ2IjoyLCJtIjoxLCJwIjoxLCJzIjowLCJuIjowfQ&amp;corrid=ef4d4920-3430-40f1-bf63-66d682887fa7#reviews\" target=\"_blank\"><span class=\"underline-hover\">(71)</span> <span class=\"screen-reader\">Review - Villa Amalfi</span></a></div> </div></div></div><div class=\"rest-row-meta rest-row-meta-grid flex-row-justify sfx1388flexInline\"> <span class=\"rest-row-meta--cuisine rest-row-meta-text\">   <div class=\"rest-row-pricing\"> <i class=\"pricing--the-price\">  $    $    $    </i> <span class=\"pricing--not-the-price\">  $        </span></div> </span> <span class=\"rest-row-meta--cuisine rest-row-meta-text sfx1388addContent\">Italian</span> <span class=\"rest-row-meta--location rest-row-meta-text sfx1388addContent\">Cliffside Park</span></div>                   <div class=\"message-alerts\"> <div class=\"booking\"><span class=\"tadpole\"></span> Booked 3 times today</div>          </div>    <div class=\"rest-row-times-cont\"><div class=\"rest-row-times\"><div class=\"timeslot-window\"><ul class=\"availability-row-container\">  <li class=\"timeslot-option timeslot-control\"> <a class=\"rest-row-times-btn timeslot\" data-covers=\"2\" data-datetime=\"2021-05-04 18:30\" data-name=\"Villa Amalfi\" data-rid=\"217606\" href=\"/book/validate?rid=217606&amp;d=2021-05-04 18:30&amp;p=2&amp;pt=1000&amp;ss=0&amp;sd=2021-05-04 18:30&amp;pofids=&amp;hash=2117274831&amp;corrid=ef4d4920-3430-40f1-bf63-66d682887fa7&amp;ref=&amp;experienceIds=&amp;i=1&amp;avt=eyJ2IjoyLCJtIjoxLCJwIjoxLCJjIjo3LCJzIjowLCJuIjowfQ\" onclick=\"OT.BestAnalytics.logRestaurantVisit(217606, '18:30')\">  <span>6:30 PM</span> <span class=\"off-screen\">Reserve at Villa Amalfi</span>  </a>  </li>  <li class=\"timeslot-option timeslot-control\"> <a class=\"rest-row-times-btn timeslot\" data-covers=\"2\" data-datetime=\"2021-05-04 18:45\" data-name=\"Villa Amalfi\" data-rid=\"217606\" href=\"/book/validate?rid=217606&amp;d=2021-05-04 18:45&amp;p=2&amp;pt=1000&amp;ss=0&amp;sd=2021-05-04 18:45&amp;pofids=&amp;hash=1489349944&amp;corrid=ef4d4920-3430-40f1-bf63-66d682887fa7&amp;ref=&amp;experienceIds=&amp;i=1&amp;avt=eyJ2IjoyLCJtIjoxLCJwIjoxLCJjIjo3LCJzIjowLCJuIjowfQ\" onclick=\"OT.BestAnalytics.logRestaurantVisit(217606, '18:45')\">  <span>6:45 PM</span> <span class=\"off-screen\">Reserve at Villa Amalfi</span>  </a>  </li>  <li class=\"timeslot-option timeslot-control\"> <a class=\"rest-row-times-btn exact timeslot\" data-covers=\"2\" data-datetime=\"2021-05-04 19:00\" data-name=\"Villa Amalfi\" data-rid=\"217606\" href=\"/book/validate?rid=217606&amp;d=2021-05-04 19:00&amp;p=2&amp;pt=1000&amp;ss=0&amp;sd=2021-05-04 19:00&amp;pofids=&amp;hash=3650594980&amp;corrid=ef4d4920-3430-40f1-bf63-66d682887fa7&amp;ref=&amp;experienceIds=&amp;i=1&amp;avt=eyJ2IjoyLCJtIjoxLCJwIjoxLCJjIjo3LCJzIjowLCJuIjowfQ\" onclick=\"OT.BestAnalytics.logRestaurantVisit(217606, '19:00')\">  <span>7:00 PM</span> <span class=\"off-screen\">Reserve at Villa Amalfi</span>  </a>  </li>  <li class=\"timeslot-option timeslot-control\"> <a class=\"rest-row-times-btn timeslot\" data-covers=\"2\" data-datetime=\"2021-05-04 19:15\" data-name=\"Villa Amalfi\" data-rid=\"217606\" href=\"/book/validate?rid=217606&amp;d=2021-05-04 19:15&amp;p=2&amp;pt=1000&amp;ss=0&amp;sd=2021-05-04 19:15&amp;pofids=&amp;hash=1716720102&amp;corrid=ef4d4920-3430-40f1-bf63-66d682887fa7&amp;ref=&amp;experienceIds=&amp;i=1&amp;avt=eyJ2IjoyLCJtIjoxLCJwIjoxLCJjIjo3LCJzIjowLCJuIjowfQ\" onclick=\"OT.BestAnalytics.logRestaurantVisit(217606, '19:15')\">  <span>7:15 PM</span> <span class=\"off-screen\">Reserve at Villa Amalfi</span>  </a>  </li>  <li class=\"timeslot-option timeslot-control\"> <a class=\"rest-row-times-btn timeslot\" data-covers=\"2\" data-datetime=\"2021-05-04 19:30\" data-name=\"Villa Amalfi\" data-rid=\"217606\" href=\"/book/validate?rid=217606&amp;d=2021-05-04 19:30&amp;p=2&amp;pt=1000&amp;ss=0&amp;sd=2021-05-04 19:30&amp;pofids=&amp;hash=3408318813&amp;corrid=ef4d4920-3430-40f1-bf63-66d682887fa7&amp;ref=&amp;experienceIds=&amp;i=1&amp;avt=eyJ2IjoyLCJtIjoxLCJwIjoxLCJjIjo3LCJzIjowLCJuIjowfQ\" onclick=\"OT.BestAnalytics.logRestaurantVisit(217606, '19:30')\">  <span>7:30 PM</span> <span class=\"off-screen\">Reserve at Villa Amalfi</span>  </a>  </li>  </ul></div></div></div>             </div></div> </li>"
      ]
     },
     "execution_count": 24,
     "metadata": {},
     "output_type": "execute_result"
    }
   ],
   "source": [
    "# this is an individual row of each table\n",
    "table.find('li', class_= 'result content-section-list-row cf with-times')"
   ]
  },
  {
   "cell_type": "code",
   "execution_count": 29,
   "metadata": {},
   "outputs": [
    {
     "data": {
      "text/plain": [
       "'https://www.opentable.com/r/villa-amalfi-cliffside-park?avt=eyJ2IjoyLCJtIjoxLCJwIjoxLCJzIjowLCJuIjowfQ&corrid=ef4d4920-3430-40f1-bf63-66d682887fa7'"
      ]
     },
     "execution_count": 29,
     "metadata": {},
     "output_type": "execute_result"
    }
   ],
   "source": [
    "#url for for the restaurant for this row\n",
    "table.find('li', class_= 'result content-section-list-row cf with-times').a.get('href')"
   ]
  },
  {
   "cell_type": "code",
   "execution_count": 31,
   "metadata": {},
   "outputs": [
    {
     "data": {
      "text/plain": [
       "'Villa Amalfi'"
      ]
     },
     "execution_count": 31,
     "metadata": {},
     "output_type": "execute_result"
    }
   ],
   "source": [
    "#name of restaurant.\n",
    "table.find('span', class_= 'rest-row-name-text').text"
   ]
  },
  {
   "cell_type": "code",
   "execution_count": 42,
   "metadata": {},
   "outputs": [
    {
     "data": {
      "text/plain": [
       "3"
      ]
     },
     "execution_count": 42,
     "metadata": {},
     "output_type": "execute_result"
    }
   ],
   "source": [
    "#number of times booked today \n",
    "num_bookings = int(table.find('div', class_='booking').text.split()[1])\n",
    "num_bookings"
   ]
  },
  {
   "cell_type": "code",
   "execution_count": 32,
   "metadata": {},
   "outputs": [
    {
     "data": {
      "text/plain": [
       "100"
      ]
     },
     "execution_count": 32,
     "metadata": {},
     "output_type": "execute_result"
    }
   ],
   "source": [
    "rows = [row for row in table.find_all('li', class_= 'result content-section-list-row cf with-times')]\n",
    "# rows[0]\n",
    "len(rows)"
   ]
  },
  {
   "cell_type": "code",
   "execution_count": 63,
   "metadata": {},
   "outputs": [],
   "source": [
    "big_dict = {}"
   ]
  },
  {
   "cell_type": "code",
   "execution_count": 61,
   "metadata": {},
   "outputs": [],
   "source": [
    "mini_dict = {}\n",
    "\n",
    "for row in rows:\n",
    "    title = row.find('span', class_= 'rest-row-name-text').text\n",
    "    url = row.find('a').get('href')\n",
    "    if not row.find('div', class_='booking'):\n",
    "        num_bookings = 0\n",
    "    else:\n",
    "        num_bookings = int(table.find('div', class_='booking').text.split()[1])\n",
    "        \n",
    "        \n",
    "    mini_dict[title] = (url,\n",
    "                       num_bookings)\n",
    "\n"
   ]
  },
  {
   "cell_type": "code",
   "execution_count": 64,
   "metadata": {},
   "outputs": [],
   "source": [
    "big_dict.update(mini_dict)"
   ]
  },
  {
   "cell_type": "code",
   "execution_count": 75,
   "metadata": {},
   "outputs": [
    {
     "data": {
      "text/plain": [
       "{'Villa Amalfi': ('https://www.opentable.com/r/villa-amalfi-cliffside-park?avt=eyJ2IjoyLCJtIjoxLCJwIjoxLCJzIjowLCJuIjowfQ&corrid=ef4d4920-3430-40f1-bf63-66d682887fa7',\n",
       "  3),\n",
       " 'Bianco Blu': ('https://www.opentable.com/r/bianca-blu-edgewater?avt=eyJ2IjoyLCJtIjoxLCJwIjowLCJzIjowLCJuIjowfQ&corrid=ef4d4920-3430-40f1-bf63-66d682887fa7',\n",
       "  3),\n",
       " 'French Roast Uptown': ('https://www.opentable.com/r/french-roast-uptown-new-york?avt=eyJ2IjoyLCJtIjoxLCJwIjowLCJzIjowLCJuIjowfQ&corrid=ef4d4920-3430-40f1-bf63-66d682887fa7',\n",
       "  3),\n",
       " 'HAVEN Riverfront Restaurant and Bar': ('https://www.opentable.com/r/haven-riverfront-restaurant-and-bar-edgewater?avt=eyJ2IjoyLCJtIjoxLCJwIjowLCJzIjowLCJuIjowfQ&corrid=ef4d4920-3430-40f1-bf63-66d682887fa7',\n",
       "  3),\n",
       " 'The Leopard at des Artistes': ('https://www.opentable.com/r/the-leopard-at-des-artistes-new-york?avt=eyJ2IjoyLCJtIjoxLCJwIjoxLCJzIjowLCJuIjowfQ&corrid=ef4d4920-3430-40f1-bf63-66d682887fa7',\n",
       "  3),\n",
       " 'Cafe Du Soleil': ('https://www.opentable.com/r/cafe-du-soleil-new-york?avt=eyJ2IjoyLCJtIjoxLCJwIjowLCJzIjowLCJuIjowfQ&corrid=ef4d4920-3430-40f1-bf63-66d682887fa7',\n",
       "  3),\n",
       " 'The Mermaid Inn Uptown': ('https://www.opentable.com/the-mermaid-inn-uptown?avt=eyJ2IjoyLCJtIjoxLCJwIjowLCJzIjowLCJuIjowfQ&corrid=ef4d4920-3430-40f1-bf63-66d682887fa7',\n",
       "  3),\n",
       " 'Dagon': ('https://www.opentable.com/r/dagon-new-york?avt=eyJ2IjoyLCJtIjoxLCJwIjowLCJzIjowLCJuIjowfQ&corrid=ef4d4920-3430-40f1-bf63-66d682887fa7',\n",
       "  3),\n",
       " \"Carmine's - 91st Street - NYC\": ('https://www.opentable.com/carmines-91st-street-nyc?avt=eyJ2IjoyLCJtIjoxLCJwIjowLCJzIjowLCJuIjowfQ&corrid=ef4d4920-3430-40f1-bf63-66d682887fa7',\n",
       "  3),\n",
       " 'Waterside Restaurant and Catering': ('https://www.opentable.com/waterside-restaurant-and-catering?avt=eyJ2IjoyLCJtIjoxLCJwIjowLCJzIjowLCJuIjowfQ&corrid=ef4d4920-3430-40f1-bf63-66d682887fa7',\n",
       "  3),\n",
       " 'Elea': ('https://www.opentable.com/r/elea-new-york?avt=eyJ2IjoyLCJtIjoxLCJwIjowLCJzIjowLCJuIjowfQ&corrid=ef4d4920-3430-40f1-bf63-66d682887fa7',\n",
       "  3),\n",
       " \"Rebecca's\": ('https://www.opentable.com/rebeccas?avt=eyJ2IjoyLCJtIjoxLCJwIjowLCJzIjowLCJuIjowfQ&corrid=ef4d4920-3430-40f1-bf63-66d682887fa7',\n",
       "  3),\n",
       " 'Serafina 105': ('https://www.opentable.com/r/serafina-105-new-york?avt=eyJ2IjoyLCJtIjoxLCJwIjowLCJzIjowLCJuIjowfQ&corrid=ef4d4920-3430-40f1-bf63-66d682887fa7',\n",
       "  3),\n",
       " 'Gyu-Kaku - Manhattan - Amsterdam Ave.': ('https://www.opentable.com/r/gyu-kaku-manhattan-amsterdam-ave-new-york?avt=eyJ2IjoyLCJtIjoxLCJwIjowLCJzIjowLCJuIjowfQ&corrid=ef4d4920-3430-40f1-bf63-66d682887fa7',\n",
       "  3),\n",
       " 'Nice Matin': ('https://www.opentable.com/r/nice-matin-new-york?avt=eyJ2IjoyLCJtIjoxLCJwIjowLCJzIjowLCJuIjowfQ&corrid=ef4d4920-3430-40f1-bf63-66d682887fa7',\n",
       "  3),\n",
       " 'Bodrum Turkish Mediterranean': ('https://www.opentable.com/r/bodrum-turkish-mediterranean-new-york?avt=eyJ2IjoyLCJtIjoxLCJwIjowLCJzIjowLCJuIjowfQ&corrid=ef4d4920-3430-40f1-bf63-66d682887fa7',\n",
       "  3),\n",
       " 'Cafe Luxembourg': ('https://www.opentable.com/cafe-luxembourg?avt=eyJ2IjoyLCJtIjoxLCJwIjowLCJzIjowLCJuIjowfQ&corrid=ef4d4920-3430-40f1-bf63-66d682887fa7',\n",
       "  3),\n",
       " 'Trattoria iL Gusto Wine Bar': ('https://www.opentable.com/r/trattoria-il-gusto-wine-bar-new-york?avt=eyJ2IjoyLCJtIjoxLCJwIjowLCJzIjowLCJuIjowfQ&corrid=ef4d4920-3430-40f1-bf63-66d682887fa7',\n",
       "  3),\n",
       " 'Hi-Life Restaurant - Upper West Side': ('https://www.opentable.com/r/hi-life-restaurant-new-york?avt=eyJ2IjoyLCJtIjoxLCJwIjowLCJzIjowLCJuIjowfQ&corrid=ef4d4920-3430-40f1-bf63-66d682887fa7',\n",
       "  3),\n",
       " 'Osteria 106': ('https://www.opentable.com/r/osteria-106-new-york-2?avt=eyJ2IjoyLCJtIjoxLCJwIjowLCJzIjowLCJuIjowfQ&corrid=ef4d4920-3430-40f1-bf63-66d682887fa7',\n",
       "  3),\n",
       " 'Boilery Upper West Side': ('https://www.opentable.com/r/boilery-upper-west-side-new-york?avt=eyJ2IjoyLCJtIjoxLCJwIjowLCJzIjowLCJuIjowfQ&corrid=ef4d4920-3430-40f1-bf63-66d682887fa7',\n",
       "  3),\n",
       " 'Son Cubano - New Jersey': ('https://www.opentable.com/son-cubano-new-jersey?avt=eyJ2IjoyLCJtIjoxLCJwIjowLCJzIjowLCJuIjowfQ&corrid=ef4d4920-3430-40f1-bf63-66d682887fa7',\n",
       "  3),\n",
       " 'Awadh': ('https://www.opentable.com/r/awadh-new-york?avt=eyJ2IjoyLCJtIjoxLCJwIjowLCJzIjowLCJuIjowfQ&corrid=ef4d4920-3430-40f1-bf63-66d682887fa7',\n",
       "  3),\n",
       " 'Le Monde': ('https://www.opentable.com/r/le-monde-new-york?avt=eyJ2IjoyLCJtIjoxLCJwIjowLCJzIjowLCJuIjowfQ&corrid=ef4d4920-3430-40f1-bf63-66d682887fa7',\n",
       "  3),\n",
       " 'La Sirene UWS': ('https://www.opentable.com/r/la-sirene-uws-new-york?avt=eyJ2IjoyLCJtIjoxLCJwIjowLCJzIjowLCJuIjowfQ&corrid=ef4d4920-3430-40f1-bf63-66d682887fa7',\n",
       "  3),\n",
       " 'Calle Ocho': ('https://www.opentable.com/calle-ocho?avt=eyJ2IjoyLCJtIjoxLCJwIjowLCJzIjowLCJuIjowfQ&corrid=ef4d4920-3430-40f1-bf63-66d682887fa7',\n",
       "  3),\n",
       " 'Shaking Crab - Upper West Side': ('https://www.opentable.com/r/shaking-crab-upper-west-side-new-york?avt=eyJ2IjoyLCJtIjoxLCJwIjowLCJzIjowLCJuIjowfQ&corrid=ef4d4920-3430-40f1-bf63-66d682887fa7',\n",
       "  3),\n",
       " 'The Smith- Lincoln Square': ('https://www.opentable.com/the-smith-lincoln-square?avt=eyJ2IjoyLCJtIjoxLCJwIjowLCJzIjowLCJuIjowfQ&corrid=ef4d4920-3430-40f1-bf63-66d682887fa7',\n",
       "  3),\n",
       " 'Serafina Upper West': ('https://www.opentable.com/serafina-upper-west?avt=eyJ2IjoyLCJtIjoxLCJwIjowLCJzIjowLCJuIjowfQ&corrid=ef4d4920-3430-40f1-bf63-66d682887fa7',\n",
       "  3),\n",
       " 'Lokal Mediterranean Kitchen': ('https://www.opentable.com/r/lokal-mediterranean-kitchen-new-york?avt=eyJ2IjoyLCJtIjoxLCJwIjowLCJzIjowLCJuIjowfQ&corrid=ef4d4920-3430-40f1-bf63-66d682887fa7',\n",
       "  3),\n",
       " 'Arte Cafe - Upper West Side': ('https://www.opentable.com/r/arte-cafe-new-york?avt=eyJ2IjoyLCJtIjoxLCJwIjowLCJzIjowLCJuIjowfQ&corrid=ef4d4920-3430-40f1-bf63-66d682887fa7',\n",
       "  3),\n",
       " 'Rustica Lounge Bar & Restaurant': ('https://www.opentable.com/r/rustica-lounge-bar-and-restaurant-cliffside-park?avt=eyJ2IjoyLCJtIjoxLCJwIjowLCJzIjowLCJuIjowfQ&corrid=ef4d4920-3430-40f1-bf63-66d682887fa7',\n",
       "  3),\n",
       " 'Ortomare Ristorante Pizzeria': ('https://www.opentable.com/r/ortomare-ristorante-pizzeria-new-york?avt=eyJ2IjoyLCJtIjoxLCJwIjowLCJzIjowLCJuIjowfQ&corrid=ef4d4920-3430-40f1-bf63-66d682887fa7',\n",
       "  3),\n",
       " 'Pappardella': ('https://www.opentable.com/r/pappardella-new-york?avt=eyJ2IjoyLCJtIjoxLCJwIjowLCJzIjowLCJuIjowfQ&corrid=ef4d4920-3430-40f1-bf63-66d682887fa7',\n",
       "  3),\n",
       " 'Red Rooster Harlem': ('https://www.opentable.com/red-rooster-harlem?avt=eyJ2IjoyLCJtIjoxLCJwIjowLCJzIjowLCJuIjowfQ&corrid=ef4d4920-3430-40f1-bf63-66d682887fa7',\n",
       "  3),\n",
       " \"Coppola's West\": ('https://www.opentable.com/r/coppolas-west-new-york?avt=eyJ2IjoyLCJtIjoxLCJwIjowLCJzIjowLCJuIjowfQ&corrid=ef4d4920-3430-40f1-bf63-66d682887fa7',\n",
       "  3),\n",
       " 'Salumeria Rosi': ('https://www.opentable.com/salumeria-rosi?avt=eyJ2IjoyLCJtIjoxLCJwIjowLCJzIjowLCJuIjowfQ&corrid=ef4d4920-3430-40f1-bf63-66d682887fa7',\n",
       "  3),\n",
       " 'Sugar Factory Broadway': ('https://www.opentable.com/r/sugar-factory-broadway-new-york?avt=eyJ2IjoyLCJtIjoxLCJwIjowLCJzIjowLCJuIjowfQ&corrid=ef4d4920-3430-40f1-bf63-66d682887fa7',\n",
       "  3),\n",
       " 'Island': ('https://www.opentable.com/r/island-new-york?avt=eyJ2IjoyLCJtIjoxLCJwIjowLCJzIjowLCJuIjowfQ&corrid=ef4d4920-3430-40f1-bf63-66d682887fa7',\n",
       "  3),\n",
       " 'Haru Sushi - Amsterdam Ave': ('https://www.opentable.com/r/haru-sushi-amsterdam-ave-new-york?avt=eyJ2IjoyLCJtIjoxLCJwIjowLCJzIjowLCJuIjowfQ&corrid=ef4d4920-3430-40f1-bf63-66d682887fa7',\n",
       "  3),\n",
       " 'Sala Thai': ('https://www.opentable.com/r/sala-thai-new-york?avt=eyJ2IjoyLCJtIjoxLCJwIjowLCJzIjowLCJuIjowfQ&corrid=ef4d4920-3430-40f1-bf63-66d682887fa7',\n",
       "  3),\n",
       " 'Vicolina': ('https://www.opentable.com/r/vicolina-new-york?avt=eyJ2IjoyLCJtIjoxLCJwIjowLCJzIjowLCJuIjowfQ&corrid=ef4d4920-3430-40f1-bf63-66d682887fa7',\n",
       "  3),\n",
       " 'Marcus at Nohu Rooftop': ('https://www.opentable.com/r/marcus-at-nohu-rooftop-weehawken?avt=eyJ2IjoyLCJtIjoxLCJwIjowLCJzIjowLCJuIjowfQ&corrid=ef4d4920-3430-40f1-bf63-66d682887fa7',\n",
       "  3),\n",
       " 'Cafe Fiorello': ('https://www.opentable.com/r/cafe-fiorello-new-york?avt=eyJ2IjoyLCJtIjoxLCJwIjowLCJzIjowLCJuIjowfQ&corrid=ef4d4920-3430-40f1-bf63-66d682887fa7',\n",
       "  3),\n",
       " 'The Highwood': ('https://www.opentable.com/r/the-highwood-weehawken?avt=eyJ2IjoyLCJtIjoxLCJwIjowLCJzIjowLCJuIjowfQ&corrid=ef4d4920-3430-40f1-bf63-66d682887fa7',\n",
       "  3),\n",
       " 'Noche Mexicana': ('https://www.opentable.com/noche-mexicana?avt=eyJ2IjoyLCJtIjoxLCJwIjowLCJzIjowLCJuIjowfQ&corrid=ef4d4920-3430-40f1-bf63-66d682887fa7',\n",
       "  3),\n",
       " 'Sushi Yasaka': ('https://www.opentable.com/sushi-yasaka?avt=eyJ2IjoyLCJtIjoxLCJwIjowLCJzIjowLCJuIjowfQ&corrid=ef4d4920-3430-40f1-bf63-66d682887fa7',\n",
       "  3),\n",
       " 'Orsay': ('https://www.opentable.com/r/orsay-new-york?avt=eyJ2IjoyLCJtIjoxLCJwIjowLCJzIjowLCJuIjowfQ&corrid=ef4d4920-3430-40f1-bf63-66d682887fa7',\n",
       "  3),\n",
       " 'Sfoglia': ('https://www.opentable.com/sfoglia?avt=eyJ2IjoyLCJtIjoxLCJwIjowLCJzIjowLCJuIjowfQ&corrid=ef4d4920-3430-40f1-bf63-66d682887fa7',\n",
       "  3),\n",
       " \"Cafe d'Alsace\": ('https://www.opentable.com/r/cafe-dalsace-new-york?avt=eyJ2IjoyLCJtIjoxLCJwIjowLCJzIjowLCJuIjowfQ&corrid=ef4d4920-3430-40f1-bf63-66d682887fa7',\n",
       "  3),\n",
       " 'Bocado Cafe': ('https://www.opentable.com/bocado-cafe?avt=eyJ2IjoyLCJtIjoxLCJwIjowLCJzIjowLCJuIjowfQ&corrid=ef4d4920-3430-40f1-bf63-66d682887fa7',\n",
       "  3),\n",
       " 'Caravaggio New York': ('https://www.opentable.com/caravaggio-new-york?avt=eyJ2IjoyLCJtIjoxLCJwIjowLCJzIjowLCJuIjowfQ&corrid=ef4d4920-3430-40f1-bf63-66d682887fa7',\n",
       "  3),\n",
       " 'Toloache - Upper East Side': ('https://www.opentable.com/r/toloache-upper-east-side-new-york?avt=eyJ2IjoyLCJtIjoxLCJwIjowLCJzIjowLCJuIjowfQ&corrid=ef4d4920-3430-40f1-bf63-66d682887fa7',\n",
       "  3),\n",
       " 'The Ribbon - UWS': ('https://www.opentable.com/r/the-ribbon-nyc?avt=eyJ2IjoyLCJtIjoxLCJwIjowLCJzIjowLCJuIjowfQ&corrid=ef4d4920-3430-40f1-bf63-66d682887fa7',\n",
       "  3),\n",
       " 'Sofrito NYC': ('https://www.opentable.com/sofrito-nyc?avt=eyJ2IjoyLCJtIjoxLCJwIjowLCJzIjowLCJuIjowfQ&corrid=ef4d4920-3430-40f1-bf63-66d682887fa7',\n",
       "  3),\n",
       " 'Flame NYC - No Hibachi (Regular Tables Only)': ('https://www.opentable.com/r/flame-nyc-new-york?avt=eyJ2IjoyLCJtIjoxLCJwIjowLCJzIjowLCJuIjowfQ&corrid=ef4d4920-3430-40f1-bf63-66d682887fa7',\n",
       "  3),\n",
       " 'Pomodoro Rosso': ('https://www.opentable.com/r/pomodoro-rosso-new-york?avt=eyJ2IjoyLCJtIjoxLCJwIjowLCJzIjowLCJuIjowfQ&corrid=ef4d4920-3430-40f1-bf63-66d682887fa7',\n",
       "  3),\n",
       " 'Rosa Mexicano by Lincoln Center': ('https://www.opentable.com/r/rosa-mexicano-by-lincoln-center-new-york?avt=eyJ2IjoyLCJtIjoxLCJwIjowLCJzIjowLCJuIjowfQ&corrid=ef4d4920-3430-40f1-bf63-66d682887fa7',\n",
       "  3),\n",
       " 'Blume/Hütte': ('https://www.opentable.com/r/blume-hutte-new-york?avt=eyJ2IjoyLCJtIjoxLCJwIjowLCJzIjowLCJuIjowfQ&corrid=ef4d4920-3430-40f1-bf63-66d682887fa7',\n",
       "  3),\n",
       " 'Maison Harlem': ('https://www.opentable.com/maison-harlem?avt=eyJ2IjoyLCJtIjoxLCJwIjowLCJzIjowLCJuIjowfQ&corrid=ef4d4920-3430-40f1-bf63-66d682887fa7',\n",
       "  3),\n",
       " 'New Amsterdam Burger and Bar': ('https://www.opentable.com/r/new-amsterdam-burger-and-bar-new-york?avt=eyJ2IjoyLCJtIjoxLCJwIjowLCJzIjowLCJuIjowfQ&corrid=ef4d4920-3430-40f1-bf63-66d682887fa7',\n",
       "  3),\n",
       " 'Empire Rooftop @ Empire Hotel': ('https://www.opentable.com/r/empire-rooftop-at-empire-hotel-new-york?avt=eyJ2IjoyLCJtIjoxLCJwIjowLCJzIjowLCJuIjowfQ&corrid=ef4d4920-3430-40f1-bf63-66d682887fa7',\n",
       "  3),\n",
       " 'Siena Cafe': ('https://www.opentable.com/r/siena-cafe-new-york?avt=eyJ2IjoyLCJtIjoxLCJwIjowLCJzIjowLCJuIjowfQ&corrid=ef4d4920-3430-40f1-bf63-66d682887fa7',\n",
       "  3),\n",
       " 'Bettola NYC': ('https://www.opentable.com/r/bettola-new-york?avt=eyJ2IjoyLCJtIjoxLCJwIjowLCJzIjowLCJuIjowfQ&corrid=ef4d4920-3430-40f1-bf63-66d682887fa7',\n",
       "  3),\n",
       " 'Sant Ambroeus - Madison Avenue': ('https://www.opentable.com/sant-ambroeus-madison-avenue?avt=eyJ2IjoyLCJtIjoxLCJwIjowLCJzIjowLCJuIjowfQ&corrid=ef4d4920-3430-40f1-bf63-66d682887fa7',\n",
       "  3),\n",
       " 'Serafina 79': ('https://www.opentable.com/serafina-fabulous-pizza?avt=eyJ2IjoyLCJtIjoxLCJwIjowLCJzIjowLCJuIjowfQ&corrid=ef4d4920-3430-40f1-bf63-66d682887fa7',\n",
       "  3),\n",
       " 'Korali': ('https://www.opentable.com/korali?avt=eyJ2IjoyLCJtIjoxLCJwIjowLCJzIjowLCJuIjowfQ&corrid=ef4d4920-3430-40f1-bf63-66d682887fa7',\n",
       "  3),\n",
       " 'Snow Globes at NoHu Rooftop': ('https://www.opentable.com/r/snow-globes-at-nohu-rooftop-weehawken?avt=eyJ2IjoyLCJtIjoxLCJwIjowLCJzIjowLCJuIjowfQ&corrid=ef4d4920-3430-40f1-bf63-66d682887fa7',\n",
       "  3),\n",
       " 'BLT Prime': ('https://www.opentable.com/r/blt-prime-new-york-2?avt=eyJ2IjoyLCJtIjoxLCJwIjowLCJzIjowLCJuIjowfQ&corrid=ef4d4920-3430-40f1-bf63-66d682887fa7',\n",
       "  3),\n",
       " \"P.F. Chang's - West New York\": ('https://www.opentable.com/r/pf-changs-west-new-york?avt=eyJ2IjoyLCJtIjoxLCJwIjowLCJzIjowLCJuIjowfQ&corrid=ef4d4920-3430-40f1-bf63-66d682887fa7',\n",
       "  3),\n",
       " 'Hachi Maki': ('https://www.opentable.com/r/hachi-maki-new-york?avt=eyJ2IjoyLCJtIjoxLCJwIjowLCJzIjowLCJuIjowfQ&corrid=ef4d4920-3430-40f1-bf63-66d682887fa7',\n",
       "  3),\n",
       " 'Il Violino': ('https://www.opentable.com/il-violino?avt=eyJ2IjoyLCJtIjoxLCJwIjowLCJzIjowLCJuIjowfQ&corrid=ef4d4920-3430-40f1-bf63-66d682887fa7',\n",
       "  3),\n",
       " 'Ousia': ('https://www.opentable.com/r/ousia-new-york?avt=eyJ2IjoyLCJtIjoxLCJwIjowLCJzIjowLCJuIjowfQ&corrid=ef4d4920-3430-40f1-bf63-66d682887fa7',\n",
       "  3),\n",
       " \"Aunt Jake's Upper East Side\": ('https://www.opentable.com/r/aunt-jakes-upper-east-side-new-york?avt=eyJ2IjoyLCJtIjoxLCJwIjowLCJzIjowLCJuIjowfQ&corrid=ef4d4920-3430-40f1-bf63-66d682887fa7',\n",
       "  3),\n",
       " 'Blue Ribbon Sushi Bar & Grill': ('https://www.opentable.com/r/blue-ribbon-sushi-bar-and-grill-new-york?avt=eyJ2IjoyLCJtIjoxLCJwIjowLCJzIjowLCJuIjowfQ&corrid=ef4d4920-3430-40f1-bf63-66d682887fa7',\n",
       "  3),\n",
       " \"'Cesca\": ('https://www.opentable.com/r/cesca-new-york?avt=eyJ2IjoyLCJtIjoxLCJwIjowLCJzIjowLCJuIjowfQ&corrid=ef4d4920-3430-40f1-bf63-66d682887fa7',\n",
       "  3),\n",
       " 'Masseria dei Vini': ('https://www.opentable.com/masseria-dei-vini?avt=eyJ2IjoyLCJtIjoxLCJwIjowLCJzIjowLCJuIjowfQ&corrid=ef4d4920-3430-40f1-bf63-66d682887fa7',\n",
       "  3),\n",
       " 'The Daisy': ('https://www.opentable.com/r/the-daisy-new-york?avt=eyJ2IjoyLCJtIjoxLCJwIjowLCJzIjowLCJuIjowfQ&corrid=ef4d4920-3430-40f1-bf63-66d682887fa7',\n",
       "  3),\n",
       " 'Bua Thai Ramen & Robata Grill': ('https://www.opentable.com/r/bua-thai-ramen-and-robata-grill-new-york?avt=eyJ2IjoyLCJtIjoxLCJwIjowLCJzIjowLCJuIjowfQ&corrid=ef4d4920-3430-40f1-bf63-66d682887fa7',\n",
       "  3),\n",
       " 'Joanne Trattoria': ('https://www.opentable.com/r/joanne-trattoria-new-york?avt=eyJ2IjoyLCJtIjoxLCJwIjowLCJzIjowLCJuIjowfQ&corrid=ef4d4920-3430-40f1-bf63-66d682887fa7',\n",
       "  3),\n",
       " 'Osteria Nando': ('https://www.opentable.com/r/osteria-nando-new-york?avt=eyJ2IjoyLCJtIjoxLCJwIjowLCJzIjowLCJuIjowfQ&corrid=ef4d4920-3430-40f1-bf63-66d682887fa7',\n",
       "  3),\n",
       " 'Sugar Bar': ('https://www.opentable.com/sugar-bar?avt=eyJ2IjoyLCJtIjoxLCJwIjowLCJzIjowLCJuIjowfQ&corrid=ef4d4920-3430-40f1-bf63-66d682887fa7',\n",
       "  3),\n",
       " \"Maxwell's Central Park\": ('https://www.opentable.com/maxwells-central-park?avt=eyJ2IjoyLCJtIjoxLCJwIjowLCJzIjowLCJuIjowfQ&corrid=ef4d4920-3430-40f1-bf63-66d682887fa7',\n",
       "  3),\n",
       " 'Elysian Fields Cafe': ('https://www.opentable.com/r/elysian-fields-cafe-new-york?avt=eyJ2IjoyLCJtIjoxLCJwIjowLCJzIjowLCJuIjowfQ&corrid=ef4d4920-3430-40f1-bf63-66d682887fa7',\n",
       "  0),\n",
       " 'Osteria Laura NYC': ('https://www.opentable.com/r/osteria-laura-nyc-new-york?avt=eyJ2IjoyLCJtIjoxLCJwIjowLCJzIjowLCJuIjowfQ&corrid=ef4d4920-3430-40f1-bf63-66d682887fa7',\n",
       "  0),\n",
       " 'Gray Hawk Grill': ('https://www.opentable.com/r/gray-hawk-grill-new-york?avt=eyJ2IjoyLCJtIjoxLCJwIjowLCJzIjowLCJuIjowfQ&corrid=ef4d4920-3430-40f1-bf63-66d682887fa7',\n",
       "  3),\n",
       " 'Kappo Masa': ('https://www.opentable.com/kappo-masa?avt=eyJ2IjoyLCJtIjoxLCJwIjowLCJzIjowLCJuIjowfQ&corrid=ef4d4920-3430-40f1-bf63-66d682887fa7',\n",
       "  3),\n",
       " 'Eats': ('https://www.opentable.com/eats?avt=eyJ2IjoyLCJtIjoxLCJwIjowLCJzIjowLCJuIjowfQ&corrid=ef4d4920-3430-40f1-bf63-66d682887fa7',\n",
       "  3),\n",
       " 'Avos Grill': ('https://www.opentable.com/r/avos-grill-cliffside-park?avt=eyJ2IjoyLCJtIjoxLCJwIjowLCJzIjowLCJuIjowfQ&corrid=ef4d4920-3430-40f1-bf63-66d682887fa7',\n",
       "  3),\n",
       " 'The Grange': ('https://www.opentable.com/the-grange?avt=eyJ2IjoyLCJtIjoxLCJwIjowLCJzIjowLCJuIjowfQ&corrid=ef4d4920-3430-40f1-bf63-66d682887fa7',\n",
       "  3),\n",
       " 'Italianissimo': ('https://www.opentable.com/italianissimo?avt=eyJ2IjoyLCJtIjoxLCJwIjowLCJzIjowLCJuIjowfQ&corrid=ef4d4920-3430-40f1-bf63-66d682887fa7',\n",
       "  3),\n",
       " 'Jacques Brasserie': ('https://www.opentable.com/jacques-brasserie?avt=eyJ2IjoyLCJtIjoxLCJwIjowLCJzIjowLCJuIjowfQ&corrid=ef4d4920-3430-40f1-bf63-66d682887fa7',\n",
       "  3),\n",
       " 'Robert': ('https://www.opentable.com/r/robert-new-york?avt=eyJ2IjoyLCJtIjoxLCJwIjowLCJzIjowLCJuIjowfQ&corrid=ef4d4920-3430-40f1-bf63-66d682887fa7',\n",
       "  3),\n",
       " '5 Napkin Burger - Upper West Side': ('https://www.opentable.com/r/5-napkin-burger-upper-west-side-new-york?avt=eyJ2IjoyLCJtIjoxLCJwIjowLCJzIjowLCJuIjowfQ&corrid=ef4d4920-3430-40f1-bf63-66d682887fa7',\n",
       "  3),\n",
       " 'The Milling Room': ('https://www.opentable.com/r/the-milling-room-new-york?avt=eyJ2IjoyLCJtIjoxLCJwIjowLCJzIjowLCJuIjowfQ&corrid=ef4d4920-3430-40f1-bf63-66d682887fa7',\n",
       "  3),\n",
       " 'Sushi Kaito': ('https://www.opentable.com/r/sushi-kaito-new-york?avt=eyJ2IjoyLCJtIjoxLCJwIjowLCJzIjowLCJuIjowfQ&corrid=ef4d4920-3430-40f1-bf63-66d682887fa7',\n",
       "  0),\n",
       " 'Sistina': ('https://www.opentable.com/sistina?avt=eyJ2IjoyLCJtIjoxLCJwIjowLCJzIjowLCJuIjowfQ&corrid=ef4d4920-3430-40f1-bf63-66d682887fa7',\n",
       "  3),\n",
       " 'Atlas Kitchen': ('https://www.opentable.com/r/atlas-kitchen-new-york?avt=eyJ2IjoyLCJtIjoxLCJwIjowLCJzIjowLCJuIjowfQ&corrid=ef4d4920-3430-40f1-bf63-66d682887fa7',\n",
       "  3),\n",
       " 'Row House': ('https://www.opentable.com/row-house?avt=eyJ2IjoyLCJtIjoxLCJwIjowLCJzIjowLCJuIjowfQ&corrid=ef4d4920-3430-40f1-bf63-66d682887fa7',\n",
       "  3),\n",
       " 'Sojourn Restaurant': ('https://www.opentable.com/r/sojourn-restaurant-new-york?avt=eyJ2IjoyLCJtIjoxLCJwIjowLCJzIjowLCJuIjowfQ&corrid=ef4d4920-3430-40f1-bf63-66d682887fa7',\n",
       "  0)}"
      ]
     },
     "execution_count": 75,
     "metadata": {},
     "output_type": "execute_result"
    }
   ],
   "source": [
    "big_dict"
   ]
  },
  {
   "cell_type": "markdown",
   "metadata": {},
   "source": [
    "# Putting it together into a loop"
   ]
  },
  {
   "cell_type": "code",
   "execution_count": 142,
   "metadata": {},
   "outputs": [],
   "source": [
    "chromedriver = \"/Applications/chromedriver\" # path to the chromedriver executable\n",
    "os.environ[\"webdriver.chrome.driver\"] = chromedriver\n",
    "\n",
    "url = 'https://www.opentable.com/new-york-restaurant-listings'\n",
    "\n",
    "\n",
    "driver = webdriver.Chrome(chromedriver)\n",
    "driver.get(url)\n",
    "\n",
    "\n"
   ]
  },
  {
   "cell_type": "code",
   "execution_count": 143,
   "metadata": {},
   "outputs": [],
   "source": [
    "soup = BeautifulSoup(driver.page_source, 'html5lib')"
   ]
  },
  {
   "cell_type": "code",
   "execution_count": 144,
   "metadata": {},
   "outputs": [],
   "source": [
    "total_pages = soup.find('div', class_= 'pagination-container').find_all('li')[-2].text\n",
    "total_pages = int(total_pages.strip())\n",
    "\n"
   ]
  },
  {
   "cell_type": "code",
   "execution_count": 145,
   "metadata": {},
   "outputs": [],
   "source": [
    "big_dict = {}\n",
    "\n"
   ]
  },
  {
   "cell_type": "code",
   "execution_count": 151,
   "metadata": {},
   "outputs": [
    {
     "ename": "IndentationError",
     "evalue": "unexpected indent (<ipython-input-151-08ba1edc6da8>, line 24)",
     "output_type": "error",
     "traceback": [
      "\u001b[0;36m  File \u001b[0;32m\"<ipython-input-151-08ba1edc6da8>\"\u001b[0;36m, line \u001b[0;32m24\u001b[0m\n\u001b[0;31m    next_button = driver.find_element_by_link_text('Next')\u001b[0m\n\u001b[0m    ^\u001b[0m\n\u001b[0;31mIndentationError\u001b[0m\u001b[0;31m:\u001b[0m unexpected indent\n"
     ]
    }
   ],
   "source": [
    "#trying to loop till the last page of restaurants\n",
    "for i in range(total_pages-1):\n",
    "    soup = BeautifulSoup(driver.page_source, 'html5lib')\n",
    "\n",
    "    rows = [row for row in table.find_all('li', class_= 'result content-section-list-row cf with-times')]\n",
    "    \n",
    "    mini_dict = {}\n",
    "\n",
    "    for row in rows:\n",
    "        title = row.find('span', class_= 'rest-row-name-text').text\n",
    "        url = row.find('a').get('href')\n",
    "        price_rating = len(row.find(class_='pricing--the-price').text.split())\n",
    "        if not row.find('div', class_='booking'):\n",
    "            num_bookings = 0\n",
    "        else:\n",
    "            num_bookings = int(table.find('div', class_='booking').text.split()[1])\n",
    "        \n",
    "        \n",
    "        mini_dict[title] = (url,\n",
    "                           num_bookings)\n",
    "    big_dict.update(mini_dict)\n",
    "    #next_button = driver.find_element_by_xpath('//*[@id=\"results-pagination\"]/li[9]/a')\n",
    "    #next_button = soup.find('a', href='fake url')\n",
    "    next_button = driver.find_element_by_link_text('Next')\n",
    "    next_button.click()\n"
   ]
  },
  {
   "cell_type": "code",
   "execution_count": 107,
   "metadata": {},
   "outputs": [
    {
     "data": {
      "text/plain": [
       "<a class=\"pagination-link pagination-prev\" href=\"fake url\"><span class=\"underline-hover\">Previous</span></a>"
      ]
     },
     "execution_count": 107,
     "metadata": {},
     "output_type": "execute_result"
    }
   ],
   "source": [
    "soup.find('a', href='fake url')"
   ]
  },
  {
   "cell_type": "code",
   "execution_count": 148,
   "metadata": {},
   "outputs": [
    {
     "ename": "AttributeError",
     "evalue": "'WebDriver' object has no attribute 'find_element_by_linkText'",
     "output_type": "error",
     "traceback": [
      "\u001b[0;31m---------------------------------------------------------------------------\u001b[0m",
      "\u001b[0;31mAttributeError\u001b[0m                            Traceback (most recent call last)",
      "\u001b[0;32m<ipython-input-148-93ad3b99415a>\u001b[0m in \u001b[0;36m<module>\u001b[0;34m\u001b[0m\n\u001b[0;32m----> 1\u001b[0;31m \u001b[0mdriver\u001b[0m\u001b[0;34m.\u001b[0m\u001b[0mfind_element_by_linkText\u001b[0m\u001b[0;34m(\u001b[0m\u001b[0;34m'Next'\u001b[0m\u001b[0;34m)\u001b[0m\u001b[0;34m\u001b[0m\u001b[0;34m\u001b[0m\u001b[0m\n\u001b[0m",
      "\u001b[0;31mAttributeError\u001b[0m: 'WebDriver' object has no attribute 'find_element_by_linkText'"
     ]
    }
   ],
   "source": [
    "driver.find_element_by_linkText('Next')"
   ]
  },
  {
   "cell_type": "code",
   "execution_count": 128,
   "metadata": {},
   "outputs": [
    {
     "ename": "AttributeError",
     "evalue": "type object 'By' has no attribute 'linkText'",
     "output_type": "error",
     "traceback": [
      "\u001b[0;31m---------------------------------------------------------------------------\u001b[0m",
      "\u001b[0;31mAttributeError\u001b[0m                            Traceback (most recent call last)",
      "\u001b[0;32m<ipython-input-128-c76e79de132d>\u001b[0m in \u001b[0;36m<module>\u001b[0;34m\u001b[0m\n\u001b[0;32m----> 1\u001b[0;31m \u001b[0mnext_button\u001b[0m \u001b[0;34m=\u001b[0m \u001b[0mdriver\u001b[0m\u001b[0;34m.\u001b[0m\u001b[0mfind_element\u001b[0m\u001b[0;34m(\u001b[0m\u001b[0mBy\u001b[0m\u001b[0;34m.\u001b[0m\u001b[0mlinkText\u001b[0m\u001b[0;34m(\u001b[0m\u001b[0;34m'Next'\u001b[0m\u001b[0;34m)\u001b[0m\u001b[0;34m)\u001b[0m\u001b[0;34m\u001b[0m\u001b[0;34m\u001b[0m\u001b[0m\n\u001b[0m",
      "\u001b[0;31mAttributeError\u001b[0m: type object 'By' has no attribute 'linkText'"
     ]
    }
   ],
   "source": [
    "next_button = driver.find_element(By.linkText('Next'))"
   ]
  },
  {
   "cell_type": "code",
   "execution_count": 125,
   "metadata": {},
   "outputs": [
    {
     "ename": "NoSuchElementException",
     "evalue": "Message: no such element: Unable to locate element: {\"method\":\"css selector\",\"selector\":\".pagination-link pagination-next\"}\n  (Session info: chrome=90.0.4430.93)\n",
     "output_type": "error",
     "traceback": [
      "\u001b[0;31m---------------------------------------------------------------------------\u001b[0m",
      "\u001b[0;31mNoSuchElementException\u001b[0m                    Traceback (most recent call last)",
      "\u001b[0;32m<ipython-input-125-d6f67f10ea67>\u001b[0m in \u001b[0;36m<module>\u001b[0;34m\u001b[0m\n\u001b[0;32m----> 1\u001b[0;31m \u001b[0mdriver\u001b[0m\u001b[0;34m.\u001b[0m\u001b[0mfind_element_by_class_name\u001b[0m\u001b[0;34m(\u001b[0m\u001b[0;34m'pagination-link pagination-next'\u001b[0m\u001b[0;34m)\u001b[0m\u001b[0;34m\u001b[0m\u001b[0;34m\u001b[0m\u001b[0m\n\u001b[0m",
      "\u001b[0;32m/usr/local/anaconda3/lib/python3.8/site-packages/selenium/webdriver/remote/webdriver.py\u001b[0m in \u001b[0;36mfind_element_by_class_name\u001b[0;34m(self, name)\u001b[0m\n\u001b[1;32m    562\u001b[0m             \u001b[0melement\u001b[0m \u001b[0;34m=\u001b[0m \u001b[0mdriver\u001b[0m\u001b[0;34m.\u001b[0m\u001b[0mfind_element_by_class_name\u001b[0m\u001b[0;34m(\u001b[0m\u001b[0;34m'foo'\u001b[0m\u001b[0;34m)\u001b[0m\u001b[0;34m\u001b[0m\u001b[0;34m\u001b[0m\u001b[0m\n\u001b[1;32m    563\u001b[0m         \"\"\"\n\u001b[0;32m--> 564\u001b[0;31m         \u001b[0;32mreturn\u001b[0m \u001b[0mself\u001b[0m\u001b[0;34m.\u001b[0m\u001b[0mfind_element\u001b[0m\u001b[0;34m(\u001b[0m\u001b[0mby\u001b[0m\u001b[0;34m=\u001b[0m\u001b[0mBy\u001b[0m\u001b[0;34m.\u001b[0m\u001b[0mCLASS_NAME\u001b[0m\u001b[0;34m,\u001b[0m \u001b[0mvalue\u001b[0m\u001b[0;34m=\u001b[0m\u001b[0mname\u001b[0m\u001b[0;34m)\u001b[0m\u001b[0;34m\u001b[0m\u001b[0;34m\u001b[0m\u001b[0m\n\u001b[0m\u001b[1;32m    565\u001b[0m \u001b[0;34m\u001b[0m\u001b[0m\n\u001b[1;32m    566\u001b[0m     \u001b[0;32mdef\u001b[0m \u001b[0mfind_elements_by_class_name\u001b[0m\u001b[0;34m(\u001b[0m\u001b[0mself\u001b[0m\u001b[0;34m,\u001b[0m \u001b[0mname\u001b[0m\u001b[0;34m)\u001b[0m\u001b[0;34m:\u001b[0m\u001b[0;34m\u001b[0m\u001b[0;34m\u001b[0m\u001b[0m\n",
      "\u001b[0;32m/usr/local/anaconda3/lib/python3.8/site-packages/selenium/webdriver/remote/webdriver.py\u001b[0m in \u001b[0;36mfind_element\u001b[0;34m(self, by, value)\u001b[0m\n\u001b[1;32m    974\u001b[0m                 \u001b[0mby\u001b[0m \u001b[0;34m=\u001b[0m \u001b[0mBy\u001b[0m\u001b[0;34m.\u001b[0m\u001b[0mCSS_SELECTOR\u001b[0m\u001b[0;34m\u001b[0m\u001b[0;34m\u001b[0m\u001b[0m\n\u001b[1;32m    975\u001b[0m                 \u001b[0mvalue\u001b[0m \u001b[0;34m=\u001b[0m \u001b[0;34m'[name=\"%s\"]'\u001b[0m \u001b[0;34m%\u001b[0m \u001b[0mvalue\u001b[0m\u001b[0;34m\u001b[0m\u001b[0;34m\u001b[0m\u001b[0m\n\u001b[0;32m--> 976\u001b[0;31m         return self.execute(Command.FIND_ELEMENT, {\n\u001b[0m\u001b[1;32m    977\u001b[0m             \u001b[0;34m'using'\u001b[0m\u001b[0;34m:\u001b[0m \u001b[0mby\u001b[0m\u001b[0;34m,\u001b[0m\u001b[0;34m\u001b[0m\u001b[0;34m\u001b[0m\u001b[0m\n\u001b[1;32m    978\u001b[0m             'value': value})['value']\n",
      "\u001b[0;32m/usr/local/anaconda3/lib/python3.8/site-packages/selenium/webdriver/remote/webdriver.py\u001b[0m in \u001b[0;36mexecute\u001b[0;34m(self, driver_command, params)\u001b[0m\n\u001b[1;32m    319\u001b[0m         \u001b[0mresponse\u001b[0m \u001b[0;34m=\u001b[0m \u001b[0mself\u001b[0m\u001b[0;34m.\u001b[0m\u001b[0mcommand_executor\u001b[0m\u001b[0;34m.\u001b[0m\u001b[0mexecute\u001b[0m\u001b[0;34m(\u001b[0m\u001b[0mdriver_command\u001b[0m\u001b[0;34m,\u001b[0m \u001b[0mparams\u001b[0m\u001b[0;34m)\u001b[0m\u001b[0;34m\u001b[0m\u001b[0;34m\u001b[0m\u001b[0m\n\u001b[1;32m    320\u001b[0m         \u001b[0;32mif\u001b[0m \u001b[0mresponse\u001b[0m\u001b[0;34m:\u001b[0m\u001b[0;34m\u001b[0m\u001b[0;34m\u001b[0m\u001b[0m\n\u001b[0;32m--> 321\u001b[0;31m             \u001b[0mself\u001b[0m\u001b[0;34m.\u001b[0m\u001b[0merror_handler\u001b[0m\u001b[0;34m.\u001b[0m\u001b[0mcheck_response\u001b[0m\u001b[0;34m(\u001b[0m\u001b[0mresponse\u001b[0m\u001b[0;34m)\u001b[0m\u001b[0;34m\u001b[0m\u001b[0;34m\u001b[0m\u001b[0m\n\u001b[0m\u001b[1;32m    322\u001b[0m             response['value'] = self._unwrap_value(\n\u001b[1;32m    323\u001b[0m                 response.get('value', None))\n",
      "\u001b[0;32m/usr/local/anaconda3/lib/python3.8/site-packages/selenium/webdriver/remote/errorhandler.py\u001b[0m in \u001b[0;36mcheck_response\u001b[0;34m(self, response)\u001b[0m\n\u001b[1;32m    240\u001b[0m                 \u001b[0malert_text\u001b[0m \u001b[0;34m=\u001b[0m \u001b[0mvalue\u001b[0m\u001b[0;34m[\u001b[0m\u001b[0;34m'alert'\u001b[0m\u001b[0;34m]\u001b[0m\u001b[0;34m.\u001b[0m\u001b[0mget\u001b[0m\u001b[0;34m(\u001b[0m\u001b[0;34m'text'\u001b[0m\u001b[0;34m)\u001b[0m\u001b[0;34m\u001b[0m\u001b[0;34m\u001b[0m\u001b[0m\n\u001b[1;32m    241\u001b[0m             \u001b[0;32mraise\u001b[0m \u001b[0mexception_class\u001b[0m\u001b[0;34m(\u001b[0m\u001b[0mmessage\u001b[0m\u001b[0;34m,\u001b[0m \u001b[0mscreen\u001b[0m\u001b[0;34m,\u001b[0m \u001b[0mstacktrace\u001b[0m\u001b[0;34m,\u001b[0m \u001b[0malert_text\u001b[0m\u001b[0;34m)\u001b[0m\u001b[0;34m\u001b[0m\u001b[0;34m\u001b[0m\u001b[0m\n\u001b[0;32m--> 242\u001b[0;31m         \u001b[0;32mraise\u001b[0m \u001b[0mexception_class\u001b[0m\u001b[0;34m(\u001b[0m\u001b[0mmessage\u001b[0m\u001b[0;34m,\u001b[0m \u001b[0mscreen\u001b[0m\u001b[0;34m,\u001b[0m \u001b[0mstacktrace\u001b[0m\u001b[0;34m)\u001b[0m\u001b[0;34m\u001b[0m\u001b[0;34m\u001b[0m\u001b[0m\n\u001b[0m\u001b[1;32m    243\u001b[0m \u001b[0;34m\u001b[0m\u001b[0m\n\u001b[1;32m    244\u001b[0m     \u001b[0;32mdef\u001b[0m \u001b[0m_value_or_default\u001b[0m\u001b[0;34m(\u001b[0m\u001b[0mself\u001b[0m\u001b[0;34m,\u001b[0m \u001b[0mobj\u001b[0m\u001b[0;34m,\u001b[0m \u001b[0mkey\u001b[0m\u001b[0;34m,\u001b[0m \u001b[0mdefault\u001b[0m\u001b[0;34m)\u001b[0m\u001b[0;34m:\u001b[0m\u001b[0;34m\u001b[0m\u001b[0;34m\u001b[0m\u001b[0m\n",
      "\u001b[0;31mNoSuchElementException\u001b[0m: Message: no such element: Unable to locate element: {\"method\":\"css selector\",\"selector\":\".pagination-link pagination-next\"}\n  (Session info: chrome=90.0.4430.93)\n"
     ]
    }
   ],
   "source": [
    "driver.find_element_by_class_name('pagination-link pagination-next')"
   ]
  },
  {
   "cell_type": "code",
   "execution_count": 149,
   "metadata": {},
   "outputs": [],
   "source": [
    "button = driver.find_element_by_link_text('Next')"
   ]
  },
  {
   "cell_type": "code",
   "execution_count": 132,
   "metadata": {},
   "outputs": [],
   "source": [
    "button.click()"
   ]
  },
  {
   "cell_type": "code",
   "execution_count": 141,
   "metadata": {},
   "outputs": [
    {
     "data": {
      "text/plain": [
       "4"
      ]
     },
     "execution_count": 141,
     "metadata": {},
     "output_type": "execute_result"
    }
   ],
   "source": [
    "#decided to also pull price rater, the number of dollar signs from the first page.\n",
    "len(soup.find(class_='pricing--the-price').text.split())"
   ]
  },
  {
   "cell_type": "code",
   "execution_count": null,
   "metadata": {},
   "outputs": [],
   "source": []
  }
 ],
 "metadata": {
  "kernelspec": {
   "display_name": "Python 3",
   "language": "python",
   "name": "python3"
  },
  "language_info": {
   "codemirror_mode": {
    "name": "ipython",
    "version": 3
   },
   "file_extension": ".py",
   "mimetype": "text/x-python",
   "name": "python",
   "nbconvert_exporter": "python",
   "pygments_lexer": "ipython3",
   "version": "3.8.5"
  }
 },
 "nbformat": 4,
 "nbformat_minor": 4
}
